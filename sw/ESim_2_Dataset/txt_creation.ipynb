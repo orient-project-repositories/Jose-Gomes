{
 "cells": [
  {
   "cell_type": "markdown",
   "metadata": {},
   "source": [
    "NO DISTORTION PARAMETERS YET"
   ]
  },
  {
   "cell_type": "code",
   "execution_count": 15,
   "metadata": {},
   "outputs": [],
   "source": [
    "import rosbag\n",
    "from geometry_msgs.msg import Point\n",
    "import pandas as pd\n",
    "import os\n",
    "import cv2\n",
    "from cv_bridge import CvBridge"
   ]
  },
  {
   "cell_type": "code",
   "execution_count": 62,
   "metadata": {},
   "outputs": [],
   "source": [
    "dataset = 'translation_1_z'"
   ]
  },
  {
   "cell_type": "code",
   "execution_count": 63,
   "metadata": {},
   "outputs": [
    {
     "name": "stdout",
     "output_type": "stream",
     "text": [
      "Dir already exists\n"
     ]
    }
   ],
   "source": [
    "try:\n",
    "    os.mkdir('/home/MSc/data/Texts/{}'.format(dataset))\n",
    "except:\n",
    "    print 'Dir already exists'"
   ]
  },
  {
   "cell_type": "code",
   "execution_count": 64,
   "metadata": {},
   "outputs": [],
   "source": [
    "# The bag file should be in the same directory as your terminal\n",
    "bag = rosbag.Bag('/home/MSc/data/Rosbags/{}.bag'.format(dataset))"
   ]
  },
  {
   "cell_type": "code",
   "execution_count": 65,
   "metadata": {},
   "outputs": [],
   "source": [
    "topic = '/cam0/image_raw'\n",
    "column_names = ['timestamp','path']\n",
    "df = pd.DataFrame(columns=column_names)\n",
    "\n",
    "i = 0\n",
    "bridge = CvBridge()\n",
    "\n",
    "for topic, msg, t in bag.read_messages(topics=topic):\n",
    "    df = df.append(\n",
    "        {'timestamp': msg.header.stamp,\n",
    "        'path':  \"images/frame{0:04d}.jpg\".format(i)},\n",
    "        ignore_index=True\n",
    "    )\n",
    "    cv_img = bridge.imgmsg_to_cv2(msg, desired_encoding=\"passthrough\")\n",
    "    cv2.imwrite(os.path.join('/home/MSc/data/Texts/', \"{0}/images/frame{1:04d}.png\".format(dataset, i)), cv_img)\n",
    "\n",
    "    i += 1\n",
    "    \n",
    "df.to_csv('/home/MSc/data/Texts/{}/images.txt'.format(dataset), index = False, header = False)    "
   ]
  },
  {
   "cell_type": "code",
   "execution_count": 5,
   "metadata": {},
   "outputs": [],
   "source": [
    "topic = '/imu'\n",
    "column_names = ['timestamp','ax', 'ay', 'az','gx','gy','gz']\n",
    "df = pd.DataFrame(columns=column_names)\n",
    "#df.set_index('timestamp')\n",
    "\n",
    "for topic, msg, t in bag.read_messages(topics=topic):\n",
    "    \n",
    "    time = msg.header.stamp\n",
    "    \n",
    "    g_x = msg.angular_velocity.x\n",
    "    g_y = msg.angular_velocity.y\n",
    "    g_z = msg.angular_velocity.z\n",
    "    \n",
    "    a_x = msg.linear_acceleration.x\n",
    "    a_y = msg.linear_acceleration.y\n",
    "    a_z = msg.linear_acceleration.z\n",
    "\n",
    "    df = df.append(\n",
    "        {'timestamp': time,\n",
    "        'ax': a_x,\n",
    "        'ay': a_y,\n",
    "        'az': a_z,\n",
    "        'gx': g_x,\n",
    "        'gy': g_y,\n",
    "        'gz': g_z},\n",
    "        ignore_index=True\n",
    "    )\n",
    "\n",
    "df.to_csv('/home/MSc/data/Texts/{}/imu.txt'.format(dataset), index = False, header = False)"
   ]
  },
  {
   "cell_type": "code",
   "execution_count": 6,
   "metadata": {},
   "outputs": [],
   "source": [
    "topic = '/cam0/camera_info'\n",
    "column_names = ['fx','fy', 'cx', 'cy','k1','k2','p1', 'p2', 'k3']\n",
    "df = pd.DataFrame(columns=column_names)\n",
    "\n",
    "for topic, msg, t in bag.read_messages(topics=topic):\n",
    "    continue\n",
    "\n",
    "df = df.append(\n",
    "    {'fx': msg.K[0],\n",
    "    'fy':  msg.K[4],\n",
    "    'cx':  msg.K[2],\n",
    "    'cy':  msg.K[5],\n",
    "    'k1': 0,\n",
    "    'k2': 0,\n",
    "    'p1': 0,\n",
    "    'p2': 0,\n",
    "    'k3': 0},\n",
    "    ignore_index=True\n",
    ")\n",
    "\n",
    "df.to_csv('/home/MSc/data/Texts/{}/calib.txt'.format(dataset), index = False, header = False)"
   ]
  },
  {
   "cell_type": "code",
   "execution_count": 7,
   "metadata": {},
   "outputs": [],
   "source": [
    "topic = '/cam0/pose'\n",
    "column_names = ['timestamp','x', 'y', 'z','qx','qy','qz', 'qw']\n",
    "df = pd.DataFrame(columns=column_names)\n",
    "\n",
    "for topic, msg, t in bag.read_messages(topics=topic):\n",
    "    df = df.append(\n",
    "        {'timestamp': msg.header.stamp,\n",
    "        'x':  msg.pose.position.x,\n",
    "        'y':  msg.pose.position.y,\n",
    "        'z':  msg.pose.position.z,\n",
    "        'qx': msg.pose.orientation.x,\n",
    "        'qy': msg.pose.orientation.y,\n",
    "        'qz': msg.pose.orientation.z,\n",
    "        'qw': msg.pose.orientation.w},\n",
    "        ignore_index=True\n",
    "    )\n",
    "\n",
    "\n",
    "\n",
    "df.to_csv('/home/MSc/data/Texts/{}/groundtruth.txt'.format(dataset), index = False, header = False)"
   ]
  }
 ],
 "metadata": {
  "kernelspec": {
   "display_name": "Python 2",
   "language": "python",
   "name": "python2"
  },
  "language_info": {
   "codemirror_mode": {
    "name": "ipython",
    "version": 2
   },
   "file_extension": ".py",
   "mimetype": "text/x-python",
   "name": "python",
   "nbconvert_exporter": "python",
   "pygments_lexer": "ipython2",
   "version": "2.7.12"
  }
 },
 "nbformat": 4,
 "nbformat_minor": 2
}
